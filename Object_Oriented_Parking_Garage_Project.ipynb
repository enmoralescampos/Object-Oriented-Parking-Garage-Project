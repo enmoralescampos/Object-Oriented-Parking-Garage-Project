{
  "cells": [
    {
      "cell_type": "markdown",
      "metadata": {
        "id": "pweZLpdvOlIv"
      },
      "source": [
        "# Parking Garage Project\n",
        "\n",
        "Your assignment for today is to create a parking garage class to get more familiar with Object Oriented Programming(OOP).\n",
        "\n",
        "Your parking gargage class should have the following methods:\n",
        "- takeTicket\n",
        "   - This should decrease the amount of tickets available by 1\n",
        "   - This should decrease the amount of parkingSpaces available by 1\n",
        "- payForParking\n",
        "   - Display an input that waits for an amount from the user and store it in a variable\n",
        "   - If the payment variable is not empty then ->  display a message to the user that their ticket has been paid and they have 15mins to leave\n",
        "   - This should update the \"currentTicket\" dictionary key \"paid\" to True\n",
        "-leaveGarage\n",
        "   - If the ticket has been paid, display a message of \"Thank You, have a nice day\"\n",
        "   - If the ticket has not been paid, display an input prompt for payment\n",
        "      - Once paid, display message \"Thank you, have a nice day!\"\n",
        "   - Update parkingSpaces list to increase by 1\n",
        "   - Update tickets list to increase by 1\n",
        "\n",
        "You will need a few attributes as well:\n",
        "- tickets -> list\n",
        "- parkingSpaces -> list\n",
        "- currentTicket -> dictionary"
      ]
    },
    {
      "cell_type": "code",
      "execution_count": null,
      "metadata": {
        "id": "95hO_NgLOlIy",
        "colab": {
          "base_uri": "https://localhost:8080/"
        },
        "outputId": "058b28c3-b45c-40fd-f675-20f775277d02"
      },
      "outputs": [
        {
          "output_type": "stream",
          "name": "stdout",
          "text": [
            "Ticket 1 taken. Parking space 1 assigned.\n",
            "\n",
            "You have entered the payment portal.\n",
            "Enter the ticket number: 1\n",
            "Enter payment amount: 0\n",
            "No payment received.\n",
            "\n",
            "You are trying to leave the garage.\n",
            "Enter your ticket number: 1\n",
            "Your ticket hasn't been paid. Enter payment amount: 0\n",
            "No payment received. You can't leave.\n"
          ]
        }
      ],
      "source": [
        "from IPython.display import clear_output\n",
        "\n",
        "class ParkingGarage():\n",
        "  spacesAvailable = 10\n",
        "\n",
        "  def __init__(self, tickets=[], parkingSpaces=[], currentTicket={}):\n",
        "    self.tickets = list(range(1, 11))\n",
        "    self.parkingSpaces = list(range(1, 11))\n",
        "    self.currentTicket = currentTicket\n",
        "\n",
        "  def takeTicket(self):\n",
        "    if len(self.tickets) != 0 and len(self.parkingSpaces) != 0:\n",
        "      ticket = self.tickets.pop(0)\n",
        "      space = self.parkingSpaces.pop(0)\n",
        "      self.currentTicket[ticket] = {\"paid\": False}\n",
        "      print(f\"Ticket {ticket} taken. Parking space {space} assigned.\")\n",
        "    else:\n",
        "      print(\"Sorry, the parking garage is full.\")\n",
        "\n",
        "  def payForParking(self):\n",
        "    print(\"\\nYou have entered the payment portal.\")\n",
        "    ticketNum = int(input(\"Enter the ticket number: \"))\n",
        "    if ticketNum in self.currentTicket:\n",
        "      payment = int(input(\"Enter payment amount: \"))\n",
        "      if payment:\n",
        "        self.currentTicket[ticketNum][\"paid\"] = True\n",
        "        print(\"Your ticket has been paid. You have 15 minutes to leave.\")\n",
        "      else:\n",
        "        print(\"No payment received.\")\n",
        "    else:\n",
        "      print(\"Invalid ticket number.\")\n",
        "\n",
        "  def leaveGarage(self):\n",
        "    print(\"\\nYou are trying to leave the garage.\")\n",
        "    ticketNum = int(input(\"Enter your ticket number: \"))\n",
        "    if ticketNum in self.currentTicket:\n",
        "      if self.currentTicket[ticketNum][\"paid\"]:\n",
        "        print(\"Thank you, have a nice day!\")\n",
        "        self.tickets.append(ticketNum)\n",
        "        self.parkingSpaces.append(ticketNum)\n",
        "        del self.currentTicket[ticketNum]\n",
        "      else:\n",
        "        payment = int(input(\"Your ticket hasn't been paid. Enter payment amount: \"))\n",
        "        if payment:\n",
        "          print(\"Thank you, have a nice day!\")\n",
        "          self.tickets.append(ticketNum)\n",
        "          self.parkingSpaces.append(ticketNum)\n",
        "          del self.currentTicket[ticketNum]\n",
        "        else:\n",
        "          print(\"No payment received. You can't leave.\")\n",
        "    else:\n",
        "      print(\"Invalid ticket number.\")\n",
        "\n",
        "\n",
        "garage = ParkingGarage()\n",
        "garage.takeTicket()\n",
        "garage.payForParking()\n",
        "garage.leaveGarage()"
      ]
    }
  ],
  "metadata": {
    "kernelspec": {
      "display_name": "Python 3",
      "language": "python",
      "name": "python3"
    },
    "language_info": {
      "codemirror_mode": {
        "name": "ipython",
        "version": 3
      },
      "file_extension": ".py",
      "mimetype": "text/x-python",
      "name": "python",
      "nbconvert_exporter": "python",
      "pygments_lexer": "ipython3",
      "version": "3.7.3"
    },
    "colab": {
      "provenance": []
    }
  },
  "nbformat": 4,
  "nbformat_minor": 0
}